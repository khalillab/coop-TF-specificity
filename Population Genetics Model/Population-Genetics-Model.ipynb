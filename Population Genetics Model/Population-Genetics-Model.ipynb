{
 "cells": [
  {
   "cell_type": "markdown",
   "metadata": {
    "id": "m5su1giQMKje"
   },
   "source": [
    "# Import Libraries"
   ]
  },
  {
   "cell_type": "code",
   "execution_count": 5,
   "metadata": {
    "id": "yGPnsySoOBej"
   },
   "outputs": [],
   "source": [
    "import scipy\n",
    "import numpy as np\n",
    "import matplotlib.pyplot as plt"
   ]
  },
  {
   "cell_type": "markdown",
   "metadata": {
    "id": "WxW4bIQeGaKi"
   },
   "source": [
    "# Model Description \n",
    "\n"
   ]
  },
  {
   "cell_type": "markdown",
   "metadata": {
    "id": "KbDhiv1dXcp_"
   },
   "source": [
    "\n",
    "## Fitness function \n",
    "We assume that cells grow at a rate $F(z)$ where $z$ is the concentration of a deleterious TF. We assume that before the TF is induced, cells double approximately every 1.5 hrs. After inducation, cells pay a fitness penalty proportional to the number of TFs which are bound to off target sites. \n",
    "This leads to the fitness function \n",
    "\\begin{equation}\n",
    "F(z) = \\lambda\\left(1- \\delta f\\frac{z}{K_z + z}\\right).\n",
    "\\end{equation}\n",
    "Here, $\\delta f$ is the fitness payed when the off target sites are saturated and $K_z$ is the dissociation constant of th TF and the binding cite. $\\delta f$ is strain dependent while $K_z$ is a tunable parameter which sets the concentration scale. $K_z$ can range from $10^{-2}$ to $10^2$ $\\mu M$ (**Based on figure board from Nikit**), but we work in units of TFs per cell. If a typical yeast cell is about $10^{-15}$ L, this translates to a range of $1$ to $10^4$ for $K_z$. \n",
    "\n",
    "## TF production and mutations\n",
    "The TF is produced at a rate $\\alpha$ (per cell) in the functional cells and not produced in the broken cells, while cells can mutate from functional to broken at a rate $\\mu$ per unit time (we are assuming that the mutation rate does not depend on the doubling time). We know that the mutation rate per generation is roughly $3.5 \\times 10^{-10}$ and there are likely $100s$ of sites on the genome which can obtain a circuit breaking mutation. Thus the per hour rate to get a circuit breaking mutation in a single-lineage is \n",
    " \\begin{equation}\n",
    " \\mu = 3.5 \\times 10^{-10} \\times \\frac{1}{1.5} \\times 100 \\approx 2.53 \\times 10^{-8}\n",
    " \\end{equation}\n",
    "\n",
    " Since there are roughly $10^8$ cells in the population, the average time we will have to wait to see a mutation is on the order of $10$ hours. It is therefore reasonable to expect that we see mutation emerge both before inducation (since populations are grown for abour $18$ hours) and after inducation before the existing mutants have dominated the population. \n",
    "\n",
    "\n",
    "## Dynamics\n",
    "\n",
    "We now develop an ODE model of the dynamics of TF concentrations in the broken and functional cells.  Note this model assumes the initial number of mutants is sufficiently large so that demographic fluctuations can be neglected.  Although the experiments are performed in a continuous culture, for simplicity we model the population dynamics as exponential growth. Since the goal is to understand the dynamics of growth rates, there should be no distinction.\n",
    "\n",
    "\n",
    " Under these assumptions, the number of functional and broken cells evolve as\n",
    "\\begin{align}\n",
    "\\frac{d}{dt}x_f &= F(z_f)x_f - \\mu x_f\\\\\n",
    "\\frac{d}{dt}x_b &= F(z_b)x_b + \\mu x_f\n",
    "\\end{align}\n",
    "Letting $m_f$ denote the number of TFs in functional cells, we have \n",
    "\\begin{equation}\n",
    "\\frac{d}{dt}m_f = \\alpha x_f - \\mu m_f\n",
    "\\end{equation}\n",
    "The second term comes from the fact that $\\mu x_f$ functional cells mutate per unit time, each taking $z_f = m_f/x_f$ TFs with it. \n",
    "The equation for the TF concentration in functional cells is therefore\n",
    "\\begin{align}\n",
    "\\frac{d}{dt}z_f &= \\frac{d}{dt}\\frac{m_f}{x_f} =  \\alpha- \\mu z_f - z_f(F(z_f) - \\mu)\\\\\n",
    "&=\\alpha - F(z_f)  z_f\n",
    "\\end{align}\n",
    "\n",
    "Notice that the dynamics of $z_f$ do not depend on $\\mu$, since when a function cell mutant the number of TFs among functional cells changes from $m_f$ to $m_f - z_f$, while the number of functional cells is decreased by $1$. Thus, the change TF concentration after the mutation event is zero:\n",
    "\\begin{equation}\n",
    "\\delta z_f = \\frac{m_f-z_f}{x_f-1} -z_f =\\frac{z_f(x_f -1)}{x_f-1} -z_f= 0.\n",
    "\\end{equation}\n",
    "\n",
    "\n",
    "For broken cells, the situation is a bit different. In this case, we have\n",
    "\\begin{equation}\n",
    "\\frac{d}{dt}m_b = \\mu z_fx_f,\n",
    "\\end{equation}\n",
    "which implies \n",
    "\\begin{align}\n",
    "\\frac{d}{dt}z_b &= \\mu z_f\\frac{x_f}{x_b} - z_b\\left(F(z_b) + \\mu\\frac{x_f}{x_b}\\right)\\\\\n",
    "&=  -z_bF(z_b) + \\mu \\frac{x_f}{x_b} (z_f - z_b).\n",
    "\\end{align}\n",
    "\n",
    "\n"
   ]
  },
  {
   "cell_type": "markdown",
   "metadata": {
    "id": "G9HkTVjIXi1G"
   },
   "source": [
    "# Simulations"
   ]
  },
  {
   "cell_type": "markdown",
   "metadata": {
    "id": "k843n24dYZUp"
   },
   "source": [
    "Here we define a function which simulations the ODE model of the population dynamics imediately after inducation, assuming that the initial number of mutants in the population is large enough to neglect demographic fluctuations. \n",
    "\n"
   ]
  },
  {
   "cell_type": "code",
   "execution_count": 6,
   "metadata": {
    "id": "3NNlC9ucLjCc"
   },
   "outputs": [],
   "source": [
    "def run(alpha,mu,fitness,xtot,mut_frac):\n",
    "    nt = 100000 # time steps\n",
    "    tmax = 100 # time to run simulations\n",
    "    dt = tmax/nt\n",
    "    \n",
    "    # setup \n",
    "    t_range = np.linspace(0,tmax,nt) # time grid\n",
    "    xf = np.zeros(nt) # cells with functioning circuits \n",
    "    xb = np.zeros(nt) # cells with broken \n",
    "    zf = np.zeros(nt) # TF concentration (TF per cell) in function cells\n",
    "    zb = np.zeros(nt) # TF concentration (TF per cell) in broken cells\n",
    "\n",
    "    # set initial conditions\n",
    "    xf[0] = xtot*(1-mut_frac)\n",
    "    xb[0] = xtot*mut_frac\n",
    "    zf[0] = 0.0\n",
    "    zb[0] = 0.0\n",
    "\n",
    "    for k in range(1,nt):\n",
    "        muz = fitness(zf[k-1])*mu/fitness(0)\n",
    "        xf[k] = xf[k-1] + fitness(zf[k-1])*xf[k-1]*dt - muz*xf[k-1]*dt \n",
    "        xb[k] = xb[k-1] + fitness(zb[k-1])*xb[k-1]*dt + muz*xf[k-1]*dt\n",
    "        zf[k] = zf[k-1] + alpha*dt-fitness(zf[k-1])*zf[k-1]*dt\n",
    "        zb[k] = zb[k-1] - fitness(zb[k-1])*zb[k-1]*dt + mu*xf[k-1]/xb[k-1]*(zf[k-1]-zb[k-1])*dt\n",
    "    \n",
    "    x_tot = xf+xb\n",
    "    gr = (x_tot[1:]-x_tot[:-1])/x_tot[:-1]/dt \n",
    "    return xf,xb,zf,zb,gr,t_range"
   ]
  },
  {
   "cell_type": "code",
   "execution_count": 7,
   "metadata": {
    "id": "hNMyWMzyob03"
   },
   "outputs": [],
   "source": [
    "mu = 3.8*10.**(-10.)*100/1.5 # mutation rate is mutation per base pair (3.8*10^-10)/generation time (1.5 hours), 100s of potential mutation sites\n",
    "alpha =1. # rate of TF production\n",
    "\n",
    "# fitness function \n",
    "def hill(z,Kz,df,c):\n",
    "  return (1.-df*z/(Kz+z+c*z))"
   ]
  },
  {
   "cell_type": "markdown",
   "metadata": {
    "id": "K6cI-x6Utbp4"
   },
   "source": [
    "## Effect of $K_z$ and $\\delta f$"
   ]
  },
  {
   "cell_type": "markdown",
   "metadata": {
    "id": "cRtEOhEQ7jsX"
   },
   "source": [
    "We now test if we can reproduce the qualitative features of the dynamics of fitness after inducation, putting aside the quantitative disagreement seen the in previous section. To do so, we fix the TF production rate, the mutation rate and the initial mutant fraction and change two parameters: $K_z$ and $\\delta f$. The former corresponds to changing the TF affinity while the later corresponds to changing the strain. Different strains may have different fitness costs, but the same $K_z$. "
   ]
  },
  {
   "cell_type": "code",
   "execution_count": 8,
   "metadata": {
    "colab": {
     "base_uri": "https://localhost:8080/",
     "height": 225
    },
    "id": "FU14vGGUg1lb",
    "outputId": "10aff5ab-699c-43d0-c6f8-e9ea0ede66a6"
   },
   "outputs": [
    {
     "data": {
      "image/png": "[encoded data removed]",
      "text/plain": [
       "<Figure size 720x216 with 2 Axes>"
      ]
     },
     "metadata": {
      "needs_background": "light"
     },
     "output_type": "display_data"
    }
   ],
   "source": [
    "# Figure 1: Changing Fitness cost\n",
    "\n",
    "fig,axs = plt.subplots(ncols=2,figsize=(10,3),sharex=True)\n",
    "\n",
    "xtot = 10e8         # Population Size\n",
    "mut_frac = 10e-6    # Fraction mutated (broken circuit)\n",
    "Kz = 1.             # TF-DNA affinity\n",
    "df1 = 0.1           # Low fitness cost\n",
    "df2 = 0.5           # Medium fitness cost\n",
    "df3 = 1.            # High fitness cost\n",
    "\n",
    "# Simulations\n",
    "\n",
    "# Low fitness cost\n",
    "xf,xb,zf,zb,gr,t_range = run(alpha,mu,lambda z:hill(z,Kz,df1,0.),xtot,mut_frac)\n",
    "axs[0].plot(t_range[:-1],gr-gr[0],label='B=0.1')\n",
    "axs[1].plot(t_range,xf/(xf+xb),label='B=0.1')\n",
    "\n",
    "# Medium fitness cost\n",
    "xf,xb,zf,zb,gr,t_range = run(alpha,mu,lambda z:hill(z,Kz,df2,0.),xtot,mut_frac)\n",
    "axs[0].plot(t_range[:-1],gr-gr[0],label='B=0.5')\n",
    "axs[1].plot(t_range,xf/(xf+xb),label='B=0.5')\n",
    "\n",
    "# High fitness cost\n",
    "xf,xb,zf,zb,gr,t_range = run(alpha,mu,lambda z:hill(z,Kz,df3,0.),xtot,mut_frac)\n",
    "axs[0].plot(t_range[:-1],gr-gr[0],label='B=1')\n",
    "axs[1].plot(t_range,xf/(xf+xb),label='B=1')\n",
    "\n",
    "\n",
    "# Label Axes\n",
    "axs[0].set_ylabel('fitness [1/hrs]')\n",
    "axs[0].set_xlabel('time post induction [hrs]')\n",
    "axs[0].set_ylim([-0.85,0.05])\n",
    "axs[0].legend(frameon=False)\n",
    "\n",
    "axs[1].set_ylabel('fraction functional cells')\n",
    "axs[1].set_xlabel('time post induction [hrs]')\n",
    "axs[1].set_ylim([-0.05,1.05])\n",
    "axs[1].legend(frameon=False)\n",
    "\n",
    "# Save figure\n",
    "plt.savefig('./changing_fitness_cost.pdf',bbox_inches='tight')"
   ]
  },
  {
   "cell_type": "code",
   "execution_count": 9,
   "metadata": {
    "colab": {
     "base_uri": "https://localhost:8080/",
     "height": 225
    },
    "id": "qYl8PrhKhR1r",
    "outputId": "a2a6f200-568f-4316-b312-53c6e3199713"
   },
   "outputs": [
    {
     "data": {
      "image/png": "[encoded data removed]",
      "text/plain": [
       "<Figure size 720x216 with 2 Axes>"
      ]
     },
     "metadata": {
      "needs_background": "light"
     },
     "output_type": "display_data"
    }
   ],
   "source": [
    "# Figure 2: Changing affinity\n",
    "\n",
    "fig,axs = plt.subplots(ncols=2,figsize=(10,3),sharex=True)\n",
    "\n",
    "xtot = 10e8         # Population Size\n",
    "mut_frac = 10e-6    # Fraction mutated (broken circuit)\n",
    "Kz1 = 10.           # Low TF-DNA Affinity\n",
    "Kz2 = 5.            # Medium TF-DNA Affinity\n",
    "Kz3 = 1.            # High TF-DNA Affinity\n",
    "df = 1              # Maximum fitness cost\n",
    "\n",
    "# Simulations\n",
    "\n",
    "# Low TF-DNA Affinity\n",
    "xf,xb,zf,zb,gr,t_range = run(alpha,mu,lambda z:hill(z,Kz1,df,0.),xtot,mut_frac)\n",
    "axs[0].plot(t_range[:-1],gr-gr[0],label='Kt=10')\n",
    "axs[1].plot(t_range,xf/(xf+xb),label='Kt=10')\n",
    "\n",
    "# Medium TF-DNA Affinity\n",
    "xf,xb,zf,zb,gr,t_range = run(alpha,mu,lambda z:hill(z,Kz2,df,0.),xtot,mut_frac)\n",
    "axs[0].plot(t_range[:-1],gr-gr[0],label='Kt=5')\n",
    "axs[1].plot(t_range,xf/(xf+xb),label='Kt=5')\n",
    "\n",
    "# High TF-DNA Affinity\n",
    "xf,xb,zf,zb,gr,t_range = run(alpha,mu,lambda z:hill(z,Kz3,df,0.),xtot,mut_frac)\n",
    "axs[0].plot(t_range[:-1],gr-gr[0],label='Kt=1')\n",
    "axs[1].plot(t_range,xf/(xf+xb),label='Kt=1')\n",
    "\n",
    "\n",
    "# Label Axes\n",
    "axs[0].set_ylabel('fitness [1/hrs]')\n",
    "axs[0].set_xlabel('time post induction [hrs]')\n",
    "axs[0].set_ylim([-0.85,0.05])\n",
    "axs[0].legend(frameon=False)\n",
    "\n",
    "axs[1].set_ylabel('fraction functional cells')\n",
    "axs[1].set_xlabel('time post induction [hrs]')\n",
    "axs[1].set_ylim([-0.05,1.05])\n",
    "axs[1].legend(frameon=False)\n",
    "\n",
    "# Save figure\n",
    "plt.savefig('./changing_affinity.pdf',bbox_inches='tight')"
   ]
  }
 ],
 "metadata": {
  "colab": {
   "collapsed_sections": [],
   "name": "circuit_break_np.ipynb",
   "provenance": []
  },
  "kernelspec": {
   "display_name": "Python 3",
   "language": "python",
   "name": "python3"
  },
  "language_info": {
   "codemirror_mode": {
    "name": "ipython",
    "version": 3
   },
   "file_extension": ".py",
   "mimetype": "text/x-python",
   "name": "python",
   "nbconvert_exporter": "python",
   "pygments_lexer": "ipython3",
   "version": "3.7.1"
  }
 },
 "nbformat": 4,
 "nbformat_minor": 1
}
